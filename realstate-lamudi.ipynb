{
 "cells": [
  {
   "cell_type": "code",
   "execution_count": 19,
   "id": "creative-receptor",
   "metadata": {},
   "outputs": [
    {
     "name": "stdout",
     "output_type": "stream",
     "text": [
      "                                                title     price        rooms  \\\n",
      "0   Milenio III SIN AMUEBLAR departamento de 3 rec...  $ 14,000  3 Recámaras   \n",
      "1   Penthouse en renta amoblado de 3 dormitorios y...  $ 27,000  3 Recámaras   \n",
      "2   RENTA DEPARTAMENTO MILENIO III A 8 MIN DEL CENTRO  $ 15,320  2 Recámaras   \n",
      "3   Departamento en Renta, en Milenio 3a. Sección,...  $ 17,500  3 Recámaras   \n",
      "4   Moderno y amplio departamento trirecámaras pla...  $ 12,000  3 Recámaras   \n",
      "..                                                ...       ...          ...   \n",
      "84  PENTHOUSE EN RENTA EN MILENIO III, 2 REC., 2 B...  $ 18,000  2 Recámaras   \n",
      "85       Departamento en Renta en Milenio 3a. Sección  $ 13,000  2 Recámaras   \n",
      "86            Departamento nuevo Renta en Milenio III  $ 18,500  3 Recámaras   \n",
      "87  RENTA DE DEPARTAMENTO AMUEBLADO Y EQUIPADO EN ...  $ 16,300  3 Recámaras   \n",
      "88  RENTA DE DEPARTAMENTO AMUEBLADO Y EQUIPADO EN ...  $ 16,321  3 Recámaras   \n",
      "\n",
      "    toilets                 mts  \n",
      "0   2 Baños  146 m² Construidos  \n",
      "1   3 Baños  246 m² Construidos  \n",
      "2   2 Baños   93 m² Construidos  \n",
      "3   3 Baños  178 m² Construidos  \n",
      "4   2 Baños  130 m² Construidos  \n",
      "..      ...                 ...  \n",
      "84  2 Baños  136 m² Construidos  \n",
      "85  2 Baños   93 m² Construidos  \n",
      "86  3 Baños  170 m² Construidos  \n",
      "87  2 Baños  112 m² Construidos  \n",
      "88  2 Baños  112 m² Construidos  \n",
      "\n",
      "[89 rows x 5 columns]\n"
     ]
    }
   ],
   "source": [
    "import pandas as pd\n",
    "df = pd.read_csv('realestate.csv')\n",
    "\n",
    "#print(df.count())\n",
    "print(df[['title','price','rooms','toilets','mts']])"
   ]
  },
  {
   "cell_type": "code",
   "execution_count": null,
   "id": "delayed-circus",
   "metadata": {},
   "outputs": [],
   "source": [
    "\n"
   ]
  },
  {
   "cell_type": "code",
   "execution_count": null,
   "id": "martial-driving",
   "metadata": {},
   "outputs": [],
   "source": []
  }
 ],
 "metadata": {
  "kernelspec": {
   "display_name": "Python 3",
   "language": "python",
   "name": "python3"
  },
  "language_info": {
   "codemirror_mode": {
    "name": "ipython",
    "version": 3
   },
   "file_extension": ".py",
   "mimetype": "text/x-python",
   "name": "python",
   "nbconvert_exporter": "python",
   "pygments_lexer": "ipython3",
   "version": "3.6.9"
  }
 },
 "nbformat": 4,
 "nbformat_minor": 5
}
