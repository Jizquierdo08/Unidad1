{
 "cells": [
  {
   "cell_type": "code",
   "execution_count": 271,
   "id": "mobile-affect",
   "metadata": {},
   "outputs": [],
   "source": [
    "import pandas as pd\n",
    "import numpy as np\n",
    "\n",
    "df_dep = pd.read_csv('renta-departamentos-1.csv', dtype=\"string\")\n",
    "df_casa = pd.read_csv('casas-renta-1.csv', dtype=\"string\")"
   ]
  },
  {
   "cell_type": "code",
   "execution_count": 272,
   "id": "settled-syndrome",
   "metadata": {},
   "outputs": [
    {
     "name": "stdout",
     "output_type": "stream",
     "text": [
      "Precio promedio de renta de departamentos en Querétaro: \n",
      "$ 26523.17\n",
      "\n"
     ]
    }
   ],
   "source": [
    "#print(df_dep['precio'])\n",
    "df_dep['nprecio']=df_dep['precio'].str.replace(\"[A-Z]+\", \"\", regex=True).str.replace(\"$ \",\"\",regex=False).str.replace(\",\",\"\",regex=False).str.replace(\"null\",\"0\",regex=True)\n",
    "df_dep['nprecio']=pd.to_numeric(df_dep[\"nprecio\"], errors=\"coerce\")\n",
    "df_dep['nprecio']=df_dep['nprecio'].replace(0,np.NaN)\n",
    "print('Precio promedio de renta de departamentos en Querétaro: ')\n",
    "print(\"$\",round(df_dep['nprecio'].mean(),3))\n",
    "print(df_dep_sc['nprecio'].sum())\n",
    "print()"
   ]
  },
  {
   "cell_type": "code",
   "execution_count": 273,
   "id": "positive-arizona",
   "metadata": {},
   "outputs": [
    {
     "name": "stdout",
     "output_type": "stream",
     "text": [
      "Precio promedio de renta de casas en Querétaro: \n",
      "$ 65278.302\n"
     ]
    }
   ],
   "source": [
    "def convertir(precios):\n",
    "    lista=[]\n",
    "    for i in precios:          \n",
    "        if i[0]=='U':               \n",
    "            dato=i\n",
    "            #print(\"Dato=\",i)\n",
    "            i=i.replace(\"USD \",\"\")\n",
    "            #print(\"Sin USD\",i)\n",
    "            a=float(i)            \n",
    "            #print(\"Tipo a=\",type(a))\n",
    "            a=round(a*20.58,1)\n",
    "            a=int(a)\n",
    "            a=str(a)            \n",
    "            #print(\"Convertido=\",i,type(a))    \n",
    "            lista.append(a)\n",
    "        else:\n",
    "            lista.append(i)\n",
    "    return lista\n",
    "    \n",
    "df_casa['nprecio']=df_casa['precio'].str.replace(\"MN \", \"\", regex=True).str.replace(\"$\",\"\",regex=False).str.replace(\",\",\"\",regex=False)\n",
    "df_casa['nprecio']=convertir(df_casa['nprecio'])\n",
    "df_casa['nprecio']=pd.to_numeric(df_casa[\"nprecio\"], errors=\"coerce\")\n",
    "df_casa['nprecio']=df_casa['nprecio'].replace(0,np.NaN)\n",
    "\n",
    "print('Precio promedio de renta de casas en Querétaro: ')\n",
    "print(\"$\",round(df_casa['nprecio'].mean(),3))"
   ]
  },
  {
   "cell_type": "code",
   "execution_count": 284,
   "id": "ancient-tampa",
   "metadata": {},
   "outputs": [
    {
     "name": "stdout",
     "output_type": "stream",
     "text": [
      "Precios sin El Campanario\n",
      "Precio promedio de renta de departamentos en Querétaro: \n",
      "$ 27485.275\n",
      "30013920.0\n",
      "\n"
     ]
    }
   ],
   "source": [
    "df_dep_sc = pd.read_csv('departamentos-renta-sc.csv', dtype=\"string\")\n",
    "\n",
    "#print(df_dep_sc.count())\n",
    "df_dep_sc['nprecio']=df_dep_sc['precio'].str.replace(\"[A-Z]+\", \"\", regex=True).str.replace(\"$\",\"\",regex=False).str.replace(\",\",\"\",regex=False).str.replace(\"null\",\"0\",regex=True)\n",
    "df_dep_sc['nprecio']=pd.to_numeric(df_dep_sc[\"nprecio\"], errors=\"coerce\")\n",
    "df_dep_sc['nprecio']=df_dep_sc['nprecio'].replace(0,np.NaN)\n",
    "\n",
    "print('Precios sin El Campanario')\n",
    "print('Precio promedio de renta de departamentos en Querétaro: ')\n",
    "print(\"$\",round(df_dep_sc['nprecio'].mean(),3))\n",
    "print(df_dep_sc['nprecio'].sum())\n",
    "print()"
   ]
  },
  {
   "cell_type": "code",
   "execution_count": 275,
   "id": "small-slovenia",
   "metadata": {},
   "outputs": [
    {
     "name": "stdout",
     "output_type": "stream",
     "text": [
      "Precios sin El Campanario\n",
      "Precio promedio de renta de departamentos en Querétaro: \n",
      "$ 47897.677\n",
      "\n"
     ]
    }
   ],
   "source": [
    "df_casas_sc = pd.read_csv('casas-renta-sc.csv', dtype=\"string\")\n",
    "\n",
    "#print(df_dep_sc.count())\n",
    "df_casas_sc['nprecio']=df_casas_sc['precio'].str.replace(\"[A-Z]+\", \"\", regex=True).str.replace(\"$\",\"\",regex=False).str.replace(\",\",\"\",regex=False).str.replace(\"null\",\"0\",regex=True)\n",
    "df_casas_sc['nprecio']=pd.to_numeric(df_casas_sc[\"nprecio\"], errors=\"coerce\")\n",
    "df_casas_sc['nprecio']=df_casas_sc['nprecio'].replace(0,np.NaN)\n",
    "\n",
    "print('Precios sin El Campanario')\n",
    "print('Precio promedio de renta de departamentos en Querétaro: ')\n",
    "print(\"$\",round(df_casas_sc['nprecio'].mean(),3))\n",
    "print()"
   ]
  },
  {
   "cell_type": "code",
   "execution_count": null,
   "id": "persistent-mattress",
   "metadata": {},
   "outputs": [],
   "source": []
  }
 ],
 "metadata": {
  "kernelspec": {
   "display_name": "Python 3",
   "language": "python",
   "name": "python3"
  },
  "language_info": {
   "codemirror_mode": {
    "name": "ipython",
    "version": 3
   },
   "file_extension": ".py",
   "mimetype": "text/x-python",
   "name": "python",
   "nbconvert_exporter": "python",
   "pygments_lexer": "ipython3",
   "version": "3.6.9"
  }
 },
 "nbformat": 4,
 "nbformat_minor": 5
}
