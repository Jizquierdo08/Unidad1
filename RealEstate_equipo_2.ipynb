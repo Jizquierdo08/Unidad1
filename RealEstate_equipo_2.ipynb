{
 "cells": [
  {
   "cell_type": "code",
   "execution_count": 69,
   "id": "together-invitation",
   "metadata": {},
   "outputs": [],
   "source": [
    "import pandas as pd\n",
    "import numpy as np\n",
    "\n",
    "df_dep = pd.read_csv('renta-departamentos-2.csv', dtype=\"string\")"
   ]
  },
  {
   "cell_type": "code",
   "execution_count": 77,
   "id": "ranking-congress",
   "metadata": {},
   "outputs": [
    {
     "name": "stdout",
     "output_type": "stream",
     "text": [
      "Precio promedio de renta de departamentos en Querétaro: \n",
      "$ 20425.597\n",
      "\n"
     ]
    }
   ],
   "source": [
    "df_dep['nprecio']=df_dep['precio'].str.replace(\"[A-Z]+\", \"\", regex=True).str.replace(\"$\",\"\",regex=False).str.replace(\",\",\"\",regex=False)\n",
    "df_dep['nprecio']=pd.to_numeric(df_dep[\"nprecio\"], errors=\"coerce\")\n",
    "df_dep['nprecio']=df_dep['nprecio'].replace(0,np.NaN)\n",
    "print('Precio promedio de renta de departamentos en Querétaro: ')\n",
    "print(\"$\",round(df_dep['nprecio'].mean(),3))\n",
    "print()"
   ]
  },
  {
   "cell_type": "code",
   "execution_count": 78,
   "id": "organizational-shock",
   "metadata": {},
   "outputs": [
    {
     "name": "stdout",
     "output_type": "stream",
     "text": [
      "Precio promedio de renta de casas en Querétaro: \n",
      "$ 27865.835\n",
      "\n"
     ]
    }
   ],
   "source": [
    "df_casa = pd.read_csv('casas_limpio.csv', dtype=\"string\")\n",
    "\n",
    "df_casa['nprecio']=df_casa['precio'].str.replace(\"MN \", \"\", regex=True).str.replace(\"$\",\"\",regex=False).str.replace(\",\",\"\",regex=False)\n",
    "df_casa['nprecio']=pd.to_numeric(df_casa[\"nprecio\"], errors=\"coerce\")\n",
    "df_casa['nprecio']=df_casa['nprecio'].replace(0,np.NaN)\n",
    "\n",
    "print('Precio promedio de renta de casas en Querétaro: ')\n",
    "print(\"$\",round(df_casa['nprecio'].mean(),3))\n",
    "print()"
   ]
  },
  {
   "cell_type": "code",
   "execution_count": 79,
   "id": "residential-memorabilia",
   "metadata": {},
   "outputs": [
    {
     "name": "stdout",
     "output_type": "stream",
     "text": [
      "Precios sin El Campanario\n",
      "Precio promedio de renta de departamentos en Querétaro: \n",
      "$ 20294.206\n",
      "\n"
     ]
    }
   ],
   "source": [
    "df_dep_sc = pd.read_csv('departamentos-renta-sc_2.csv', dtype=\"string\")\n",
    "\n",
    "df_dep_sc['nprecio']=df_dep_sc['precio'].str.replace(\"[A-Z]+\", \"\", regex=True).str.replace(\"$\",\"\",regex=False).str.replace(\",\",\"\",regex=False)\n",
    "df_dep_sc['nprecio']=pd.to_numeric(df_dep_sc[\"nprecio\"], errors=\"coerce\")\n",
    "df_dep_sc['nprecio']=df_dep_sc['nprecio'].replace(0,np.NaN)\n",
    "\n",
    "print('Precios sin El Campanario')\n",
    "print('Precio promedio de renta de departamentos en Querétaro: ')\n",
    "print(\"$\",round(df_dep_sc['nprecio'].mean(),3))\n",
    "print()"
   ]
  },
  {
   "cell_type": "code",
   "execution_count": 80,
   "id": "cosmetic-copyright",
   "metadata": {},
   "outputs": [
    {
     "name": "stdout",
     "output_type": "stream",
     "text": [
      "Precios sin El Campanario\n",
      "Precio promedio de renta de departamentos en Querétaro: \n",
      "$ 25611.352\n",
      "\n"
     ]
    }
   ],
   "source": [
    "df_casas_sc = pd.read_csv('casas_s-campanario_limpio.csv', dtype=\"string\")\n",
    "\n",
    "df_casas_sc['nprecio']=df_casas_sc['precio'].str.replace(\"[A-Z]+\", \"\", regex=True).str.replace(\"$\",\"\",regex=False).str.replace(\",\",\"\",regex=False).str.replace(\"null\",\"0\",regex=True)\n",
    "df_casas_sc['nprecio']=pd.to_numeric(df_casas_sc[\"nprecio\"], errors=\"coerce\")\n",
    "df_casas_sc['nprecio']=df_casas_sc['nprecio'].replace(0,np.NaN)\n",
    "\n",
    "print('Precios sin El Campanario')\n",
    "print('Precio promedio de renta de departamentos en Querétaro: ')\n",
    "print(\"$\",round(df_casas_sc['nprecio'].mean(),3))\n",
    "print()"
   ]
  },
  {
   "cell_type": "code",
   "execution_count": null,
   "id": "macro-hayes",
   "metadata": {},
   "outputs": [],
   "source": []
  }
 ],
 "metadata": {
  "kernelspec": {
   "display_name": "Python 3",
   "language": "python",
   "name": "python3"
  },
  "language_info": {
   "codemirror_mode": {
    "name": "ipython",
    "version": 3
   },
   "file_extension": ".py",
   "mimetype": "text/x-python",
   "name": "python",
   "nbconvert_exporter": "python",
   "pygments_lexer": "ipython3",
   "version": "3.6.9"
  }
 },
 "nbformat": 4,
 "nbformat_minor": 5
}
