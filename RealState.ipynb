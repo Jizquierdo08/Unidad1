{
 "cells": [
  {
   "cell_type": "code",
   "execution_count": 9,
   "id": "comfortable-crawford",
   "metadata": {},
   "outputs": [],
   "source": [
    "import pandas as pd\n"
   ]
  },
  {
   "cell_type": "code",
   "execution_count": 10,
   "id": "elder-executive",
   "metadata": {},
   "outputs": [],
   "source": [
    "df = pd.read_csv('sao-paulo-properties-april-2019.csv')"
   ]
  },
  {
   "cell_type": "code",
   "execution_count": 15,
   "id": "accepting-directory",
   "metadata": {},
   "outputs": [
    {
     "name": "stdout",
     "output_type": "stream",
     "text": [
      "El precio promedio de renta en Sao Paulo es de: 3077.6690647482014\n"
     ]
    }
   ],
   "source": [
    "#print(df)\n",
    "#prom_precio=df['Price'].mean()\n",
    "#print(prom_precio)\n",
    "#¿Cual es el precio promedio de renta en sao paulo?\n",
    "prom_precio_renta = df.loc[df['Negotiation Type']=='rent','Price'].mean()\n",
    "print(\"El precio promedio de renta en Sao Paulo es de:\",prom_precio_renta)\n"
   ]
  },
  {
   "cell_type": "code",
   "execution_count": null,
   "id": "emerging-textbook",
   "metadata": {},
   "outputs": [],
   "source": []
  },
  {
   "cell_type": "code",
   "execution_count": null,
   "id": "hispanic-monitor",
   "metadata": {},
   "outputs": [],
   "source": []
  }
 ],
 "metadata": {
  "kernelspec": {
   "display_name": "Python 3",
   "language": "python",
   "name": "python3"
  },
  "language_info": {
   "codemirror_mode": {
    "name": "ipython",
    "version": 3
   },
   "file_extension": ".py",
   "mimetype": "text/x-python",
   "name": "python",
   "nbconvert_exporter": "python",
   "pygments_lexer": "ipython3",
   "version": "3.6.9"
  }
 },
 "nbformat": 4,
 "nbformat_minor": 5
}
