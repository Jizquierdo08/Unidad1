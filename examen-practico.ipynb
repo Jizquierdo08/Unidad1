{
 "cells": [
  {
   "cell_type": "code",
   "execution_count": 7,
   "id": "accessible-assessment",
   "metadata": {},
   "outputs": [
    {
     "name": "stdout",
     "output_type": "stream",
     "text": [
      "Renta departamentos\n",
      "0        $ 26,000\n",
      "1        $ 11,500\n",
      "2        $ 14,000\n",
      "3        $ 15,000\n",
      "4        $ 25,000\n",
      "          ...    \n",
      "1175    MN 23,000\n",
      "1176    MN 16,000\n",
      "1177    MN 15,000\n",
      "1178    MN 16,000\n",
      "1179     MN 7,500\n",
      "Name: precio, Length: 1180, dtype: object\n",
      "Renta casas\n",
      "0       $ 15,500\n",
      "1       $ 11,000\n",
      "2       $ 18,000\n",
      "3        $ 7,500\n",
      "4       $ 25,000\n",
      "         ...    \n",
      "821    MN 12,700\n",
      "822    MN 35,000\n",
      "823    MN 12,000\n",
      "824    MN 14,500\n",
      "825    MN 12,500\n",
      "Name: precio, Length: 826, dtype: object\n"
     ]
    }
   ],
   "source": [
    "import pandas as pd\n",
    "\n",
    "dr = pd.read_csv('renta-departamentos.csv')\n",
    "cr = pd.read_csv('casas-renta.csv')\n",
    "\n",
    "#print(dr.count())\n",
    "#print(cr.count())\n",
    "\n",
    "print('Renta departamentos')\n",
    "print(dr['precio'])\n",
    "print('Renta casas')\n",
    "print(cr['precio'])"
   ]
  },
  {
   "cell_type": "code",
   "execution_count": null,
   "id": "connected-royal",
   "metadata": {},
   "outputs": [],
   "source": []
  },
  {
   "cell_type": "code",
   "execution_count": null,
   "id": "dress-sight",
   "metadata": {},
   "outputs": [],
   "source": []
  }
 ],
 "metadata": {
  "kernelspec": {
   "display_name": "Python 3",
   "language": "python",
   "name": "python3"
  },
  "language_info": {
   "codemirror_mode": {
    "name": "ipython",
    "version": 3
   },
   "file_extension": ".py",
   "mimetype": "text/x-python",
   "name": "python",
   "nbconvert_exporter": "python",
   "pygments_lexer": "ipython3",
   "version": "3.6.9"
  }
 },
 "nbformat": 4,
 "nbformat_minor": 5
}
