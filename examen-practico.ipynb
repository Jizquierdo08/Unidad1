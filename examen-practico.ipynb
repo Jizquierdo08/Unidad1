{
 "cells": [
  {
   "cell_type": "code",
   "execution_count": 2,
   "id": "accessible-assessment",
   "metadata": {},
   "outputs": [
    {
     "name": "stdout",
     "output_type": "stream",
     "text": [
      "web-scraper-order        1180\n",
      "web-scraper-start-url    1180\n",
      "titulo                   1180\n",
      "precio                   1173\n",
      "habitaciones             1175\n",
      "banos                    1170\n",
      "metros                   1116\n",
      "dtype: int64\n",
      "web-scraper-order        826\n",
      "web-scraper-start-url    826\n",
      "titulo                   826\n",
      "precio                   826\n",
      "habitaciones             825\n",
      "metros                   813\n",
      "dtype: int64\n",
      "Precio promedio de renta de departamentos en Querétaro: \n",
      "$ 23117.94\n",
      "\n",
      "Precio promedio de renta de casas en Querétaro: \n",
      "$ 60110.594\n"
     ]
    }
   ],
   "source": [
    "import pandas as pd\n",
    "\n",
    "dr = pd.read_csv('renta-departamentos.csv', dtype=\"string\")\n",
    "cr = pd.read_csv('casas-renta.csv', dtype=\"string\")\n",
    "        \n",
    "        \n",
    "print(dr.count())\n",
    "print(cr.count())\n",
    "\n",
    "print('Precio promedio de renta de departamentos en Querétaro: ')\n",
    "#print(dr['precio'])\n",
    "dr['nprecio']=dr['precio'].str.replace(\"[A-Z]+\", \"\", regex=True).str.replace(\"$ \",\"\",regex=False).str.replace(\",\",\"\",regex=False)\n",
    "dr['nprecio']=pd.to_numeric(dr[\"nprecio\"], errors=\"coerce\")\n",
    "#print(dr['nprecio'])\n",
    "print(\"$\",round(dr['nprecio'].mean(),3))\n",
    "print()\n",
    "print('Precio promedio de renta de casas en Querétaro: ')\n",
    "#print(cr['precio'])\n",
    "cr['nprecio']=cr['precio'].str.replace(\"[A-Z]+\", \"\", regex=True).str.replace(\"$ \",\"\",regex=False).str.replace(\",\",\"\",regex=False)\n",
    "cr['nprecio']=pd.to_numeric(cr[\"nprecio\"], errors=\"coerce\")\n",
    "#print(cr['nprecio'])\n",
    "print(\"$\",round(cr['nprecio'].mean(),3))"
   ]
  },
  {
   "cell_type": "code",
   "execution_count": null,
   "id": "connected-royal",
   "metadata": {},
   "outputs": [],
   "source": []
  },
  {
   "cell_type": "code",
   "execution_count": null,
   "id": "dress-sight",
   "metadata": {},
   "outputs": [],
   "source": []
  }
 ],
 "metadata": {
  "kernelspec": {
   "display_name": "Python 3",
   "language": "python",
   "name": "python3"
  },
  "language_info": {
   "codemirror_mode": {
    "name": "ipython",
    "version": 3
   },
   "file_extension": ".py",
   "mimetype": "text/x-python",
   "name": "python",
   "nbconvert_exporter": "python",
   "pygments_lexer": "ipython3",
   "version": "3.6.9"
  }
 },
 "nbformat": 4,
 "nbformat_minor": 5
}
