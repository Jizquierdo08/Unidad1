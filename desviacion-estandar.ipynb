{
 "cells": [
  {
   "cell_type": "code",
   "execution_count": 1,
   "id": "changed-jordan",
   "metadata": {},
   "outputs": [],
   "source": [
    "import pandas as pd\n",
    "import numpy as np\n",
    "\n",
    "df_dep = pd.read_csv('departamentos-nuevo.csv', dtype=\"string\")\n",
    "df_casa = pd.read_csv('casas-act.csv', dtype=\"string\")\n",
    "\n",
    "\n",
    "def convertir(precios):\n",
    "    lista=[]\n",
    "    for i in precios:          \n",
    "        if i[0]=='U':               \n",
    "            dato=i\n",
    "            i=i.replace(\"USD \",\"\")\n",
    "            a=float(i)                        \n",
    "            a=round(a*20.58,1)\n",
    "            a=int(a)\n",
    "            a=str(a)                           \n",
    "            lista.append(a)\n",
    "        else:\n",
    "            lista.append(i)\n",
    "    return lista"
   ]
  },
  {
   "cell_type": "code",
   "execution_count": 6,
   "id": "heated-shift",
   "metadata": {},
   "outputs": [
    {
     "name": "stdout",
     "output_type": "stream",
     "text": [
      "Precio promedio de renta de departamentos en Querétaro: \n",
      "$ 18877.159\n",
      "Desviación estándar: \n",
      "8174.925\n",
      "\n"
     ]
    }
   ],
   "source": [
    "df_dep['nprecio']=df_dep['precio'].str.replace(\"MN \", \"\", regex=True).str.replace(\"$\",\"\",regex=False).str.replace(\",\",\"\",regex=False)\n",
    "df_dep['nprecio']=convertir(df_dep['nprecio'])\n",
    "df_dep['nprecio']=pd.to_numeric(df_dep[\"nprecio\"], errors=\"coerce\")\n",
    "df_dep['nprecio']=df_dep['nprecio'].replace(0,np.NaN)\n",
    "print('Precio promedio de renta de departamentos en Querétaro: ')\n",
    "print(\"$\",round(df_dep['nprecio'].mean(),3))\n",
    "print('Desviación estándar: ')\n",
    "print(round(np.std(df_dep['nprecio'], ddof=1),3))\n",
    "print()"
   ]
  },
  {
   "cell_type": "code",
   "execution_count": 9,
   "id": "expired-aviation",
   "metadata": {},
   "outputs": [
    {
     "name": "stdout",
     "output_type": "stream",
     "text": [
      "Precio promedio de venta de casas en Querétaro: \n",
      "$ 5973333.229\n",
      "Desviación estándar: \n",
      "28983489.964\n",
      "\n"
     ]
    }
   ],
   "source": [
    "df_casa['nprecio']=df_casa['precio'].str.replace(\"MN \", \"\", regex=True).str.replace(\"$\",\"\",regex=False).str.replace(\",\",\"\",regex=False)\n",
    "df_casa['nprecio']=convertir(df_casa['nprecio'])\n",
    "df_casa['nprecio']=pd.to_numeric(df_casa[\"nprecio\"], errors=\"coerce\")\n",
    "df_casa['nprecio']=df_casa['nprecio'].replace(0,np.NaN)\n",
    "print('Precio promedio de venta de casas en Querétaro: ')\n",
    "print(\"$\",round(df_casa['nprecio'].mean(),3))\n",
    "print('Desviación estándar: ')\n",
    "print(round(np.std(df_casa['nprecio'], ddof=1),3))\n",
    "print()"
   ]
  },
  {
   "cell_type": "code",
   "execution_count": null,
   "id": "abroad-wedding",
   "metadata": {},
   "outputs": [],
   "source": []
  }
 ],
 "metadata": {
  "kernelspec": {
   "display_name": "Python 3",
   "language": "python",
   "name": "python3"
  },
  "language_info": {
   "codemirror_mode": {
    "name": "ipython",
    "version": 3
   },
   "file_extension": ".py",
   "mimetype": "text/x-python",
   "name": "python",
   "nbconvert_exporter": "python",
   "pygments_lexer": "ipython3",
   "version": "3.6.9"
  }
 },
 "nbformat": 4,
 "nbformat_minor": 5
}
