{
 "cells": [
  {
   "cell_type": "code",
   "execution_count": 165,
   "id": "altered-gazette",
   "metadata": {},
   "outputs": [],
   "source": [
    "import pandas as pd\n",
    "import numpy as np\n",
    "from sklearn import linear_model"
   ]
  },
  {
   "cell_type": "code",
   "execution_count": 166,
   "id": "greater-pacific",
   "metadata": {},
   "outputs": [],
   "source": [
    "df_dep = pd.read_csv('departamentos-pro.csv', dtype=\"string\")\n",
    "df_casa = pd.read_csv('casas-pro.csv', dtype=\"string\")\n",
    "\n",
    "def limpiar(precios):\n",
    "    lista=precios\n",
    "    lista=lista.str.replace(\"MN \", \"\", regex=True).str.replace(\"$\",\"\",regex=False).str.replace(\",\",\"\",regex=False)    \n",
    "    lista=pd.to_numeric(lista,errors=\"coerce\")    \n",
    "    return lista\n",
    "\n",
    "def limpiar_m(metros):\n",
    "    lista=metros\n",
    "    lista=lista.str.replace(\" m²\",\"\",regex=True)\n",
    "    lista=pd.to_numeric(lista,errors=\"coerce\")\n",
    "    return lista"
   ]
  },
  {
   "cell_type": "code",
   "execution_count": 167,
   "id": "chief-encyclopedia",
   "metadata": {},
   "outputs": [
    {
     "data": {
      "text/plain": [
       "array([[19213.02551117]])"
      ]
     },
     "execution_count": 167,
     "metadata": {},
     "output_type": "execute_result"
    }
   ],
   "source": [
    "#MODELO PARA DEPARTAMENTOS\n",
    "\n",
    "df_dep['nprecio']=limpiar(df_dep['precio'])\n",
    "df_dep['nprecio']=df_dep['nprecio'].replace(0,np.NaN)\n",
    "df_dep['nmetros']=limpiar_m(df_dep['mets'])\n",
    "df_dep['nmetros']=df_dep['nmetros'].replace(0,np.NaN)\n",
    "model_departamentos=linear_model.LinearRegression()\n",
    "\n",
    "#DATA FRAME DE ENTRENAMIENTO (70% de los datos) = departamentos\n",
    "departamentos1=pd.DataFrame(df_dep.loc[df_dep['web-scraper-start-url'].str.contains(\"juriquilla\"),'nprecio'])\n",
    "departamentos1['nmetros']=df_dep.loc[df_dep['web-scraper-start-url'].str.contains(\"juriquilla\"),'nmetros']\n",
    "departamentos=departamentos.iloc[0:453]\n",
    "\n",
    "precio_depts=pd.DataFrame(departamentos['nprecio'])\n",
    "metros_depts=pd.DataFrame(departamentos['nmetros'])\n",
    "\n",
    "model_departamentos.fit(metros_depts,precio_depts)\n",
    "model_departamentos.predict(pd.DataFrame([125]))\n",
    "\n"
   ]
  },
  {
   "cell_type": "code",
   "execution_count": 168,
   "id": "changing-invention",
   "metadata": {},
   "outputs": [
    {
     "data": {
      "text/plain": [
       "array([[18821.91167358]])"
      ]
     },
     "execution_count": 168,
     "metadata": {},
     "output_type": "execute_result"
    }
   ],
   "source": [
    "#DATA FRAME DE VALIDACION (30% restante) = departamentos_ok\n",
    "departamentos_ok=pd.DataFrame(departamentos1.iloc[453:])\n",
    "\n",
    "precio_depts_ok=pd.DataFrame(departamentos_ok['nprecio'])\n",
    "metros_depts_ok=pd.DataFrame(departamentos_ok['nmetros'])\n",
    "\n",
    "model_departamentos.fit(metros_depts_ok,precio_depts_ok)\n",
    "model_departamentos.predict(pd.DataFrame([125]))"
   ]
  },
  {
   "cell_type": "code",
   "execution_count": 169,
   "id": "dramatic-abraham",
   "metadata": {},
   "outputs": [
    {
     "data": {
      "text/plain": [
       "array([[5774525.87088012]])"
      ]
     },
     "execution_count": 169,
     "metadata": {},
     "output_type": "execute_result"
    }
   ],
   "source": [
    "#MODELO PARA CASAS\n",
    "\n",
    "df_casa['nprecio']=limpiar(df_casa['precio'])\n",
    "df_casa['nprecio']=df_casa['nprecio']\n",
    "df_casa['nprecio']=df_casa['nprecio'].replace(np.NaN,0)\n",
    "df_casa['nmetros']=limpiar_m(df_casa['mets'])\n",
    "df_casa['nmetros']=df_casa['nmetros'].replace(0,np.NaN)\n",
    "\n",
    "model_casas=linear_model.LinearRegression()\n",
    "\n",
    "#DATA FRAME DE ENTRENAMIENTO (70% de los datos) = casas\n",
    "casas1=pd.DataFrame(df_casa.loc[df_casa['web-scraper-start-url'].str.contains(\"juriquilla\"),'nprecio'])\n",
    "casas1['nmetros']=df_casa.loc[df_casa['web-scraper-start-url'].str.contains(\"juriquilla\"),'nmetros']\n",
    "\n",
    "casas=casas1.iloc[0:1141]\n",
    "\n",
    "precio_casas=pd.DataFrame(casas['nprecio'])\n",
    "metros_casas=pd.DataFrame(casas['nmetros'])\n",
    "\n",
    "model_casas.fit(metros_casas,precio_casas)\n",
    "model_casas.predict(pd.DataFrame([492]))\n",
    "\n"
   ]
  },
  {
   "cell_type": "code",
   "execution_count": 170,
   "id": "internal-gambling",
   "metadata": {},
   "outputs": [
    {
     "data": {
      "text/plain": [
       "array([[6887872.2805541]])"
      ]
     },
     "execution_count": 170,
     "metadata": {},
     "output_type": "execute_result"
    }
   ],
   "source": [
    "#DATA FRAME DE VALIDACION (30% restante) = departamentos_ok\n",
    "casas_ok=pd.DataFrame(casas1.iloc[1141:])\n",
    "\n",
    "precio_casas_ok=pd.DataFrame(casas_ok['nprecio'])\n",
    "metros_casas_ok=pd.DataFrame(casas_ok['nmetros'])\n",
    "\n",
    "model_casas.fit(metros_casas_ok,precio_casas_ok)\n",
    "model_casas.predict(pd.DataFrame([492]))"
   ]
  },
  {
   "cell_type": "code",
   "execution_count": null,
   "id": "latest-longitude",
   "metadata": {},
   "outputs": [],
   "source": []
  }
 ],
 "metadata": {
  "kernelspec": {
   "display_name": "Python 3",
   "language": "python",
   "name": "python3"
  },
  "language_info": {
   "codemirror_mode": {
    "name": "ipython",
    "version": 3
   },
   "file_extension": ".py",
   "mimetype": "text/x-python",
   "name": "python",
   "nbconvert_exporter": "python",
   "pygments_lexer": "ipython3",
   "version": "3.6.9"
  }
 },
 "nbformat": 4,
 "nbformat_minor": 5
}
